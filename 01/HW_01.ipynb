{
  "cells": [
    {
      "cell_type": "markdown",
      "metadata": {
        "id": "m62k98fy-gx5"
      },
      "source": [
        "## Module 1 Homework\n",
        "\n",
        "In this homework, we're going to download finance data from various sources and make simple calculations/analysis.\n",
        "\n",
        "---"
      ]
    },
    {
      "cell_type": "code",
      "execution_count": 74,
      "metadata": {},
      "outputs": [],
      "source": [
        "# IMPORTS\n",
        "import numpy as np\n",
        "import pandas as pd\n",
        "\n",
        "#Fin Data Sources\n",
        "import yfinance as yf\n",
        "import pandas_datareader as pdr\n",
        "\n",
        "#Data viz\n",
        "import plotly.graph_objs as go\n",
        "import plotly.express as px\n",
        "import matplotlib.pyplot as plt\n",
        "\n",
        "import time\n",
        "from datetime import date\n",
        "\n",
        "import ta\n",
        "import requests"
      ]
    },
    {
      "cell_type": "markdown",
      "metadata": {},
      "source": [
        "\n",
        "### Question 1: [Macro] Average growth of GDP in 2023\n",
        "\n",
        "**What is the average growth (in %) of GDP in 2023?**\n",
        "\n",
        "Download the timeseries Real Gross Domestic Product (GDPC1) from FRED (https://fred.stlouisfed.org/series/GDPC1). \n",
        "Calculate year-over-year (YoY) growth rate (that is, divide current value to one 4 quarters ago). Find the average YoY growth in 2023 (average from 4 YoY numbers).\n",
        "Round to 1 digit after the decimal point: e.g. if you get 5.66% growth => you should answer  5.7\n",
        "\n",
        "---\n"
      ]
    },
    {
      "cell_type": "code",
      "execution_count": 75,
      "metadata": {},
      "outputs": [
        {
          "name": "stdout",
          "output_type": "stream",
          "text": [
            "Year = 2024; month= 4; day=24\n",
            "Period for indexes: 1954-04-24 to 2024-04-24 \n"
          ]
        }
      ],
      "source": [
        "# Get dates\n",
        "end = date.today()\n",
        "start = date(year=end.year-70, month=end.month, day=end.day)\n",
        "print(f'Year = {end.year}; month= {end.month}; day={end.day}')\n",
        "print(f'Period for indexes: {start} to {end} ')"
      ]
    },
    {
      "cell_type": "code",
      "execution_count": 76,
      "metadata": {},
      "outputs": [],
      "source": [
        "# Download Real Gross Domestic Product (GDPC1)\n",
        "# https://fred.stlouisfed.org/series/GDPC1\n",
        "gdpc1 = pdr.DataReader(\"GDPC1\", \"fred\", start=start)"
      ]
    },
    {
      "cell_type": "code",
      "execution_count": 77,
      "metadata": {},
      "outputs": [
        {
          "data": {
            "text/html": [
              "<div>\n",
              "<style scoped>\n",
              "    .dataframe tbody tr th:only-of-type {\n",
              "        vertical-align: middle;\n",
              "    }\n",
              "\n",
              "    .dataframe tbody tr th {\n",
              "        vertical-align: top;\n",
              "    }\n",
              "\n",
              "    .dataframe thead th {\n",
              "        text-align: right;\n",
              "    }\n",
              "</style>\n",
              "<table border=\"1\" class=\"dataframe\">\n",
              "  <thead>\n",
              "    <tr style=\"text-align: right;\">\n",
              "      <th></th>\n",
              "      <th>GDPC1</th>\n",
              "      <th>gdpc1_us_yoy</th>\n",
              "      <th>gdpc1_us_qoq</th>\n",
              "    </tr>\n",
              "    <tr>\n",
              "      <th>DATE</th>\n",
              "      <th></th>\n",
              "      <th></th>\n",
              "      <th></th>\n",
              "    </tr>\n",
              "  </thead>\n",
              "  <tbody>\n",
              "    <tr>\n",
              "      <th>2022-10-01</th>\n",
              "      <td>21989.981</td>\n",
              "      <td>0.006517</td>\n",
              "      <td>0.006354</td>\n",
              "    </tr>\n",
              "    <tr>\n",
              "      <th>2023-01-01</th>\n",
              "      <td>22112.329</td>\n",
              "      <td>0.017179</td>\n",
              "      <td>0.005564</td>\n",
              "    </tr>\n",
              "    <tr>\n",
              "      <th>2023-04-01</th>\n",
              "      <td>22225.350</td>\n",
              "      <td>0.023825</td>\n",
              "      <td>0.005111</td>\n",
              "    </tr>\n",
              "    <tr>\n",
              "      <th>2023-07-01</th>\n",
              "      <td>22490.692</td>\n",
              "      <td>0.029269</td>\n",
              "      <td>0.011939</td>\n",
              "    </tr>\n",
              "    <tr>\n",
              "      <th>2023-10-01</th>\n",
              "      <td>22679.255</td>\n",
              "      <td>0.031345</td>\n",
              "      <td>0.008384</td>\n",
              "    </tr>\n",
              "  </tbody>\n",
              "</table>\n",
              "</div>"
            ],
            "text/plain": [
              "                GDPC1  gdpc1_us_yoy  gdpc1_us_qoq\n",
              "DATE                                             \n",
              "2022-10-01  21989.981      0.006517      0.006354\n",
              "2023-01-01  22112.329      0.017179      0.005564\n",
              "2023-04-01  22225.350      0.023825      0.005111\n",
              "2023-07-01  22490.692      0.029269      0.011939\n",
              "2023-10-01  22679.255      0.031345      0.008384"
            ]
          },
          "execution_count": 77,
          "metadata": {},
          "output_type": "execute_result"
        }
      ],
      "source": [
        "gdpc1['gdpc1_us_yoy'] = gdpc1.GDPC1/gdpc1.GDPC1.shift(4)-1\n",
        "gdpc1['gdpc1_us_qoq'] = gdpc1.GDPC1/gdpc1.GDPC1.shift(1)-1\n",
        "gdpc1.tail()"
      ]
    },
    {
      "cell_type": "code",
      "execution_count": 78,
      "metadata": {},
      "outputs": [
        {
          "data": {
            "text/plain": [
              "0.02540443392867625"
            ]
          },
          "execution_count": 78,
          "metadata": {},
          "output_type": "execute_result"
        }
      ],
      "source": [
        "# Filter data for 2023\n",
        "gdpc1_2023 = gdpc1.loc['2023']\n",
        "\n",
        "# Calculate average YoY growth in 2023\n",
        "average_yoy_growth_2023 = gdpc1_2023['gdpc1_us_yoy'].mean()\n",
        "average_yoy_growth_2023"
      ]
    },
    {
      "cell_type": "code",
      "execution_count": 79,
      "metadata": {},
      "outputs": [
        {
          "name": "stdout",
          "output_type": "stream",
          "text": [
            "Year = 2024; month= 4; day=24\n",
            "Period for indexes: 1954-04-24 to 2024-04-24 \n",
            "Average YoY growth in 2023: 2.5%\n"
          ]
        }
      ],
      "source": [
        "# Round the result to 1 decimal\n",
        "# Convert to percentage and round\n",
        "average_yoy_growth_2023 = round(average_yoy_growth_2023 * 100, 1)\n",
        "\n",
        "print(f'Year = {end.year}; month= {end.month}; day={end.day}')\n",
        "print(f'Period for indexes: {start} to {end} ')\n",
        "print(f'Average YoY growth in 2023: {average_yoy_growth_2023}%')"
      ]
    },
    {
      "cell_type": "markdown",
      "metadata": {},
      "source": [
        "### Question 2. [Macro] Inverse \"Treasury Yield\"\n",
        "\n",
        "**Find the min value of (dgs10-dgs2) after since year 2000 (2000-01-01) and write it down as an answer, round to 1 digit after the decimal point.**\n",
        "\n",
        "\n",
        "Download DGS2 and DGS10 interest rates series (https://fred.stlouisfed.org/series/DGS2,\n",
        " https://fred.stlouisfed.org/series/DGS10). Join them together to one dataframe on date (you might need to read about pandas.DataFrame.join()), calculate the difference dgs10-dgs2 daily.\n",
        "    \n",
        "(Additional: think about what does the \"inverted yield curve\" mean for the market and investors? do you see the same thing in your country/market of interest? Do you think it can be a good predictive feature for the models?)\n",
        "\n",
        "---"
      ]
    },
    {
      "cell_type": "code",
      "execution_count": 80,
      "metadata": {},
      "outputs": [],
      "source": [
        "#Download DGS2 and DGS10 from FRED\n",
        "start = date(2000, 1, 1)\n",
        "dgs2 = pdr.DataReader(\"DGS2\", \"fred\", start=start)\n",
        "dgs10 = pdr.DataReader(\"DGS10\", \"fred\", start=start)"
      ]
    },
    {
      "cell_type": "code",
      "execution_count": 81,
      "metadata": {},
      "outputs": [
        {
          "data": {
            "text/html": [
              "<div>\n",
              "<style scoped>\n",
              "    .dataframe tbody tr th:only-of-type {\n",
              "        vertical-align: middle;\n",
              "    }\n",
              "\n",
              "    .dataframe tbody tr th {\n",
              "        vertical-align: top;\n",
              "    }\n",
              "\n",
              "    .dataframe thead th {\n",
              "        text-align: right;\n",
              "    }\n",
              "</style>\n",
              "<table border=\"1\" class=\"dataframe\">\n",
              "  <thead>\n",
              "    <tr style=\"text-align: right;\">\n",
              "      <th></th>\n",
              "      <th>DGS2</th>\n",
              "      <th>DGS10</th>\n",
              "    </tr>\n",
              "    <tr>\n",
              "      <th>DATE</th>\n",
              "      <th></th>\n",
              "      <th></th>\n",
              "    </tr>\n",
              "  </thead>\n",
              "  <tbody>\n",
              "    <tr>\n",
              "      <th>2000-01-03</th>\n",
              "      <td>6.38</td>\n",
              "      <td>6.58</td>\n",
              "    </tr>\n",
              "    <tr>\n",
              "      <th>2000-01-04</th>\n",
              "      <td>6.30</td>\n",
              "      <td>6.49</td>\n",
              "    </tr>\n",
              "    <tr>\n",
              "      <th>2000-01-05</th>\n",
              "      <td>6.38</td>\n",
              "      <td>6.62</td>\n",
              "    </tr>\n",
              "    <tr>\n",
              "      <th>2000-01-06</th>\n",
              "      <td>6.35</td>\n",
              "      <td>6.57</td>\n",
              "    </tr>\n",
              "    <tr>\n",
              "      <th>2000-01-07</th>\n",
              "      <td>6.31</td>\n",
              "      <td>6.52</td>\n",
              "    </tr>\n",
              "    <tr>\n",
              "      <th>...</th>\n",
              "      <td>...</td>\n",
              "      <td>...</td>\n",
              "    </tr>\n",
              "    <tr>\n",
              "      <th>2024-04-16</th>\n",
              "      <td>4.97</td>\n",
              "      <td>4.67</td>\n",
              "    </tr>\n",
              "    <tr>\n",
              "      <th>2024-04-17</th>\n",
              "      <td>4.93</td>\n",
              "      <td>4.59</td>\n",
              "    </tr>\n",
              "    <tr>\n",
              "      <th>2024-04-18</th>\n",
              "      <td>4.98</td>\n",
              "      <td>4.64</td>\n",
              "    </tr>\n",
              "    <tr>\n",
              "      <th>2024-04-19</th>\n",
              "      <td>4.97</td>\n",
              "      <td>4.62</td>\n",
              "    </tr>\n",
              "    <tr>\n",
              "      <th>2024-04-22</th>\n",
              "      <td>4.97</td>\n",
              "      <td>4.62</td>\n",
              "    </tr>\n",
              "  </tbody>\n",
              "</table>\n",
              "<p>6341 rows × 2 columns</p>\n",
              "</div>"
            ],
            "text/plain": [
              "            DGS2  DGS10\n",
              "DATE                   \n",
              "2000-01-03  6.38   6.58\n",
              "2000-01-04  6.30   6.49\n",
              "2000-01-05  6.38   6.62\n",
              "2000-01-06  6.35   6.57\n",
              "2000-01-07  6.31   6.52\n",
              "...          ...    ...\n",
              "2024-04-16  4.97   4.67\n",
              "2024-04-17  4.93   4.59\n",
              "2024-04-18  4.98   4.64\n",
              "2024-04-19  4.97   4.62\n",
              "2024-04-22  4.97   4.62\n",
              "\n",
              "[6341 rows x 2 columns]"
            ]
          },
          "execution_count": 81,
          "metadata": {},
          "output_type": "execute_result"
        }
      ],
      "source": [
        "#Join dgs2 and dgs10\n",
        "df = pd.concat([dgs2, dgs10], axis=1)\n",
        "df"
      ]
    },
    {
      "cell_type": "code",
      "execution_count": 82,
      "metadata": {},
      "outputs": [
        {
          "data": {
            "text/html": [
              "<div>\n",
              "<style scoped>\n",
              "    .dataframe tbody tr th:only-of-type {\n",
              "        vertical-align: middle;\n",
              "    }\n",
              "\n",
              "    .dataframe tbody tr th {\n",
              "        vertical-align: top;\n",
              "    }\n",
              "\n",
              "    .dataframe thead th {\n",
              "        text-align: right;\n",
              "    }\n",
              "</style>\n",
              "<table border=\"1\" class=\"dataframe\">\n",
              "  <thead>\n",
              "    <tr style=\"text-align: right;\">\n",
              "      <th></th>\n",
              "      <th>DGS2</th>\n",
              "      <th>DGS10</th>\n",
              "      <th>difference</th>\n",
              "    </tr>\n",
              "    <tr>\n",
              "      <th>DATE</th>\n",
              "      <th></th>\n",
              "      <th></th>\n",
              "      <th></th>\n",
              "    </tr>\n",
              "  </thead>\n",
              "  <tbody>\n",
              "    <tr>\n",
              "      <th>2000-01-03</th>\n",
              "      <td>6.38</td>\n",
              "      <td>6.58</td>\n",
              "      <td>0.20</td>\n",
              "    </tr>\n",
              "    <tr>\n",
              "      <th>2000-01-04</th>\n",
              "      <td>6.30</td>\n",
              "      <td>6.49</td>\n",
              "      <td>0.19</td>\n",
              "    </tr>\n",
              "    <tr>\n",
              "      <th>2000-01-05</th>\n",
              "      <td>6.38</td>\n",
              "      <td>6.62</td>\n",
              "      <td>0.24</td>\n",
              "    </tr>\n",
              "    <tr>\n",
              "      <th>2000-01-06</th>\n",
              "      <td>6.35</td>\n",
              "      <td>6.57</td>\n",
              "      <td>0.22</td>\n",
              "    </tr>\n",
              "    <tr>\n",
              "      <th>2000-01-07</th>\n",
              "      <td>6.31</td>\n",
              "      <td>6.52</td>\n",
              "      <td>0.21</td>\n",
              "    </tr>\n",
              "    <tr>\n",
              "      <th>...</th>\n",
              "      <td>...</td>\n",
              "      <td>...</td>\n",
              "      <td>...</td>\n",
              "    </tr>\n",
              "    <tr>\n",
              "      <th>2024-04-16</th>\n",
              "      <td>4.97</td>\n",
              "      <td>4.67</td>\n",
              "      <td>-0.30</td>\n",
              "    </tr>\n",
              "    <tr>\n",
              "      <th>2024-04-17</th>\n",
              "      <td>4.93</td>\n",
              "      <td>4.59</td>\n",
              "      <td>-0.34</td>\n",
              "    </tr>\n",
              "    <tr>\n",
              "      <th>2024-04-18</th>\n",
              "      <td>4.98</td>\n",
              "      <td>4.64</td>\n",
              "      <td>-0.34</td>\n",
              "    </tr>\n",
              "    <tr>\n",
              "      <th>2024-04-19</th>\n",
              "      <td>4.97</td>\n",
              "      <td>4.62</td>\n",
              "      <td>-0.35</td>\n",
              "    </tr>\n",
              "    <tr>\n",
              "      <th>2024-04-22</th>\n",
              "      <td>4.97</td>\n",
              "      <td>4.62</td>\n",
              "      <td>-0.35</td>\n",
              "    </tr>\n",
              "  </tbody>\n",
              "</table>\n",
              "<p>6341 rows × 3 columns</p>\n",
              "</div>"
            ],
            "text/plain": [
              "            DGS2  DGS10  difference\n",
              "DATE                               \n",
              "2000-01-03  6.38   6.58        0.20\n",
              "2000-01-04  6.30   6.49        0.19\n",
              "2000-01-05  6.38   6.62        0.24\n",
              "2000-01-06  6.35   6.57        0.22\n",
              "2000-01-07  6.31   6.52        0.21\n",
              "...          ...    ...         ...\n",
              "2024-04-16  4.97   4.67       -0.30\n",
              "2024-04-17  4.93   4.59       -0.34\n",
              "2024-04-18  4.98   4.64       -0.34\n",
              "2024-04-19  4.97   4.62       -0.35\n",
              "2024-04-22  4.97   4.62       -0.35\n",
              "\n",
              "[6341 rows x 3 columns]"
            ]
          },
          "execution_count": 82,
          "metadata": {},
          "output_type": "execute_result"
        }
      ],
      "source": [
        "# Calculate the difference between DGS2 and DGS10\n",
        "df['difference'] = df['DGS10'] - df['DGS2']\n",
        "df"
      ]
    },
    {
      "cell_type": "code",
      "execution_count": 83,
      "metadata": {},
      "outputs": [
        {
          "data": {
            "text/plain": [
              "-1.1"
            ]
          },
          "execution_count": 83,
          "metadata": {},
          "output_type": "execute_result"
        }
      ],
      "source": [
        "# Find the min value of (dgs10-dgs2)\n",
        "# Round to 1 digit after the decimal point\n",
        "\n",
        "min_difference = round(df['difference'].min(), 1)\n",
        "min_difference"
      ]
    },
    {
      "cell_type": "code",
      "execution_count": 84,
      "metadata": {},
      "outputs": [
        {
          "name": "stdout",
          "output_type": "stream",
          "text": [
            "The min value of (dgs10-dgs2) since 2000-01-01 is: -1.1\n"
          ]
        }
      ],
      "source": [
        "print(f\"The min value of (dgs10-dgs2) since 2000-01-01 is: {min_difference}\")"
      ]
    },
    {
      "cell_type": "markdown",
      "metadata": {},
      "source": [
        "**Additional:** think about what does the \"inverted yield curve\" mean for the market and investors? do you see the same thing in your country/market of interest? Do you think it can be a good predictive feature for the models?\n",
        "\n",
        "The \"inverted yield curve\" occurs when short-term interest rates are higher than long-term interest rates, indicating a possible economic downturn. It may indicate reduced economic growth, which will affect investor sentiment and investment decisions. In some cases, it precedes recessions. It could be a valuable predictive feature for models due to its historical correlation with economic downturns."
      ]
    },
    {
      "cell_type": "markdown",
      "metadata": {},
      "source": [
        "### Question 3. [Index] Which Index is better recently?\n",
        "\n",
        "**Compare S&P 500 and IPC Mexico indexes by the 5 year growth and write down the largest value as an answer (%)**\n",
        "\n",
        "Download on Yahoo Finance two daily index prices for S&P 500 (^GSPC, https://finance.yahoo.com/quote/%5EGSPC/) and IPC Mexico (^MXX, https://finance.yahoo.com/quote/%5EMXX/). Compare 5Y growth for both (between 2019-04-09 and 2024-04-09). Select the higher growing index and write down the growth in % (closest integer %). E.g. if ratio end/start was 2.0925 (or growth of 109.25%), you need to write down 109 as your answer.\n",
        "\n",
        "(Additional: think of other indexes and try to download stats and compare the growth? Do create 10Y and 20Y growth stats. What is an average yearly growth rate (CAGR) for each of the indexes you select?)\n",
        "\n",
        "---"
      ]
    },
    {
      "cell_type": "code",
      "execution_count": 85,
      "metadata": {},
      "outputs": [
        {
          "name": "stderr",
          "output_type": "stream",
          "text": [
            "[*********************100%%**********************]  1 of 1 completed\n",
            "[*********************100%%**********************]  1 of 1 completed\n"
          ]
        }
      ],
      "source": [
        "#Define dates\n",
        "start_date = \"2019-04-09\"\n",
        "end_date = \"2024-04-09\"\n",
        "\n",
        "#Download S&P 500\n",
        "sp500 = yf.download(tickers=\"^GSPC\", start=start_date, end=end_date, interval=\"1d\")\n",
        "\n",
        "#Download IPC Mexico\n",
        "ipc_mex = yf.download(tickers=\"^MXX\", start=start_date, end=end_date, interval=\"1d\")"
      ]
    },
    {
      "cell_type": "code",
      "execution_count": 86,
      "metadata": {},
      "outputs": [],
      "source": [
        "# Calculate growth\n",
        "sp500_growth = (sp500['Close'].iloc[-1] / sp500['Close'].iloc[0]) - 1\n",
        "\n",
        "ipc_mex_growth= (ipc_mex['Close'].iloc[-1] / ipc_mex['Close'].iloc[0]) - 1"
      ]
    },
    {
      "cell_type": "code",
      "execution_count": 87,
      "metadata": {},
      "outputs": [
        {
          "name": "stdout",
          "output_type": "stream",
          "text": [
            "S&P 500 index had the higher growth at 81%.\n"
          ]
        }
      ],
      "source": [
        "#  Select the higher growing index and write down the growth in %\n",
        "\n",
        "if sp500_growth > ipc_mex_growth:\n",
        "    print(f\"S&P 500 index had the higher growth at {round(sp500_growth * 100)}%.\")\n",
        "else:\n",
        "    print(f\"IPC Mexico index had the higher growth at {round(ipc_mex_growth * 100)}%.\")"
      ]
    },
    {
      "cell_type": "markdown",
      "metadata": {},
      "source": [
        "**Additional:** think of other indexes and try to download stats and compare the growth? Do create 10Y and 20Y growth stats. What is an average yearly growth rate (CAGR) for each of the indexes you select?)"
      ]
    },
    {
      "cell_type": "code",
      "execution_count": 88,
      "metadata": {},
      "outputs": [
        {
          "name": "stdout",
          "output_type": "stream",
          "text": [
            "10-year CAGR:\n",
            "^GSPC: 10.51%\n",
            "^IXIC: 14.43%\n",
            "^DJI: 8.9%\n",
            "^FTSE: 1.62%\n",
            "^GDAXI: 6.19%\n",
            "^N225: 9.31%\n",
            "\n",
            "\n",
            "20-year CAGR:\n",
            "^GSPC: 7.96%\n",
            "^IXIC: 11.13%\n",
            "^DJI: 6.96%\n",
            "^FTSE: 2.96%\n",
            "^GDAXI: 8.0%\n",
            "^N225: 6.44%\n"
          ]
        }
      ],
      "source": [
        "# Most common stock index\n",
        "indexes = [\n",
        "    \"^GSPC\",  # S&P 500\n",
        "    \"^IXIC\",  # Nasdaq Composite\n",
        "    \"^DJI\",   # Dow Jones Industrial Average\n",
        "    \"^FTSE\",  # FTSE 100\n",
        "    \"^GDAXI\", # DAX\n",
        "    \"^N225\",   # Nikkei 225\n",
        "]\n",
        "\n",
        "# Download data\n",
        "data = {}\n",
        "for index in indexes:\n",
        "    ticker = yf.Ticker(index)\n",
        "    data[index] = ticker.history(period=\"max\")\n",
        "\n",
        "# Calculate the 10-year and 20-year CAGR\n",
        "cagr_10 = {}\n",
        "cagr_20 = {}\n",
        "for index, df in data.items():\n",
        "    start_10 = df.index[-251 * 10]\n",
        "    start_20 = df.index[-251 * 20]\n",
        "    end = df.index[-1]\n",
        "    \n",
        "    cagr_10[index] = ((df.loc[end, 'Close'] / df.loc[start_10, 'Close'])**(1/10)) - 1\n",
        "    cagr_20[index] = ((df.loc[end, 'Close'] / df.loc[start_20, 'Close'])**(1/20)) - 1\n",
        "\n",
        "# Results\n",
        "print(\"10-year CAGR:\")\n",
        "for index, cagr in cagr_10.items():\n",
        "    print(f\"{index}: {round(cagr * 100, 2)}%\")\n",
        "\n",
        "print(\"\\n\")\n",
        "\n",
        "print(\"20-year CAGR:\")\n",
        "for index, cagr in cagr_20.items():\n",
        "    print(f\"{index}: {round(cagr * 100, 2)}%\")"
      ]
    },
    {
      "cell_type": "code",
      "execution_count": 89,
      "metadata": {},
      "outputs": [
        {
          "name": "stderr",
          "output_type": "stream",
          "text": [
            "[*********************100%%**********************]  1 of 1 completed\n",
            "[*********************100%%**********************]  1 of 1 completed\n",
            "[*********************100%%**********************]  1 of 1 completed\n",
            "[*********************100%%**********************]  1 of 1 completed\n",
            "[*********************100%%**********************]  1 of 1 completed\n",
            "[*********************100%%**********************]  1 of 1 completed"
          ]
        },
        {
          "name": "stdout",
          "output_type": "stream",
          "text": [
            "CAGR since the beginning of the cryptocurrency market:\n",
            "BTC-USD (Comparison date: 2014-09-17): 67.91%\n",
            "ETH-USD (Comparison date: 2017-11-09): 42.92%\n",
            "XRP-USD (Comparison date: 2017-11-09): 15.29%\n",
            "LTC-USD (Comparison date: 2014-09-17): 34.16%\n",
            "BCH-USD (Comparison date: 2017-11-09): -3.92%\n",
            "ADA-USD (Comparison date: 2017-11-09): 53.03%\n"
          ]
        },
        {
          "name": "stderr",
          "output_type": "stream",
          "text": [
            "\n"
          ]
        }
      ],
      "source": [
        "#CRIPTO\n",
        "from datetime import datetime\n",
        "\n",
        "# Define the cryptocurrency index symbols\n",
        "crypto_indices = [\n",
        "    'BTC-USD',  # Bitcoin\n",
        "    'ETH-USD',  # Ethereum\n",
        "    'XRP-USD',  # Ripple\n",
        "    'LTC-USD',  # Litecoin\n",
        "    'BCH-USD',  # Bitcoin Cash\n",
        "    'ADA-USD'   # Cardano\n",
        "]\n",
        "\n",
        "# Download historical data for each cryptocurrency index\n",
        "crypto_data = {}\n",
        "for index in crypto_indices:\n",
        "    crypto_data[index] = yf.download(index, start='2010-01-01', end=datetime.today().strftime('%Y-%m-%d'))\n",
        "\n",
        "# Calculate the Compound Annual Growth Rate (CAGR) since the beginning of the cryptocurrency market for each index\n",
        "cagr_since_start = {}\n",
        "for index, data_df in crypto_data.items():\n",
        "    if len(data_df) == 0:\n",
        "        print(f\"No data available for index {index}\")\n",
        "        continue\n",
        "    \n",
        "    # Get the start and end dates to calculate CAGR since the beginning\n",
        "    start_date = data_df.index[0]\n",
        "    end_date = data_df.index[-1]\n",
        "    \n",
        "    # Calculate the CAGR since the beginning\n",
        "    cagr_since_start[index] = ((data_df.loc[end_date, 'Close'] / data_df.loc[start_date, 'Close'])**(1 / ((end_date - start_date).days / 365))) - 1\n",
        "\n",
        "# Print the results of CAGR since the beginning\n",
        "print(\"CAGR since the beginning of the cryptocurrency market:\")\n",
        "for index, cagr in cagr_since_start.items():\n",
        "    start_date = crypto_data[index].index[0].date() \n",
        "    print(f\"{index} (Comparison date: {start_date}): {round(cagr * 100, 2)}%\")\n"
      ]
    },
    {
      "cell_type": "markdown",
      "metadata": {},
      "source": [
        "### Question 4. [Stocks OHLCV] 52-weeks range ratio (2023) for the selected stocks\n",
        "\n",
        "\n",
        "**Find the largest range ratio [=(max-min)/max] of Adj.Close prices in 2023**\n",
        "\n",
        "\n",
        "Download the 2023 daily OHLCV data on Yahoo Finance for top6 stocks on earnings (https://companiesmarketcap.com/most-profitable-companies/): 2222.SR,BRK-B, AAPL, MSFT, GOOG, JPM.\n",
        "\n",
        "Here is the example data you should see in Pandas for \"2222.SR\": https://finance.yahoo.com/quote/2222.SR/history\n",
        "\n",
        "Calculate maximum-minimim \"Adj.Close\" price for each stock and divide it by the maximum \"Adj.Close\" value.\n",
        "Round the result to two decimal places (e.g. 0.1575 will be 0.16)\n",
        "\n",
        "(Additional: why this may be important for your research?)\n",
        "\n",
        "---"
      ]
    },
    {
      "cell_type": "code",
      "execution_count": 90,
      "metadata": {},
      "outputs": [
        {
          "name": "stderr",
          "output_type": "stream",
          "text": [
            "[*********************100%%**********************]  1 of 1 completed\n",
            "[*********************100%%**********************]  1 of 1 completed\n",
            "[*********************100%%**********************]  1 of 1 completed\n",
            "[*********************100%%**********************]  1 of 1 completed\n",
            "[*********************100%%**********************]  1 of 1 completed\n",
            "[*********************100%%**********************]  1 of 1 completed\n"
          ]
        }
      ],
      "source": [
        "# Download data \n",
        "\n",
        "stocks = ['2222.SR', 'BRK-B', 'AAPL', 'MSFT', 'GOOG', 'JPM']\n",
        "data = {}\n",
        "for stock in stocks:\n",
        "    data[stock] = yf.download(stock, start=\"2023-01-01\", end=\"2023-12-31\")\n"
      ]
    },
    {
      "cell_type": "code",
      "execution_count": 91,
      "metadata": {},
      "outputs": [],
      "source": [
        "# Calculate maximum-minimim \"Adj.Close\" price for each stock \n",
        "price_diff = {}\n",
        "for stock, df in data.items():\n",
        "    price_diff[stock] = df['Adj Close'].max() - df['Adj Close'].min()"
      ]
    },
    {
      "cell_type": "code",
      "execution_count": 92,
      "metadata": {},
      "outputs": [],
      "source": [
        "# Max price for each stock\n",
        "max_adj_close = {stock: df['Adj Close'].max() for stock, df in data.items()}"
      ]
    },
    {
      "cell_type": "code",
      "execution_count": 93,
      "metadata": {},
      "outputs": [],
      "source": [
        "# Divide it by the maximum \"Adj.Close\" value\n",
        "result = {stock: diff / max_adj_close[stock] for stock, diff in price_diff.items()}\n"
      ]
    },
    {
      "cell_type": "code",
      "execution_count": 94,
      "metadata": {},
      "outputs": [],
      "source": [
        "# Round the result to two decimal places\n",
        "rounded_result = {stock: round(value, 2) for stock, value in result.items()}"
      ]
    },
    {
      "cell_type": "code",
      "execution_count": 95,
      "metadata": {},
      "outputs": [
        {
          "name": "stdout",
          "output_type": "stream",
          "text": [
            "Stock   |   Result\n",
            "------------------\n",
            "2222.SR: 0.21\n",
            "BRK-B: 0.21\n",
            "AAPL: 0.37\n",
            "MSFT: 0.42\n",
            "GOOG: 0.39\n",
            "JPM: 0.28\n"
          ]
        }
      ],
      "source": [
        "# All results\n",
        "print(\"Stock   |   Result\")\n",
        "print(\"------------------\")\n",
        "for stock, value in rounded_result.items():\n",
        "    print(f\"{stock}: {value}\")"
      ]
    },
    {
      "cell_type": "code",
      "execution_count": 96,
      "metadata": {},
      "outputs": [
        {
          "name": "stdout",
          "output_type": "stream",
          "text": [
            "The largest range ratio is MSFT with a ratio of 0.42\n"
          ]
        }
      ],
      "source": [
        "# Find the stock with the highest rank ratio\n",
        "max_range_ratio_stock = max(result, key=result.get)\n",
        "max_range_ratio = result[max_range_ratio_stock]\n",
        "\n",
        "# Result\n",
        "print(f\"The largest range ratio is {max_range_ratio_stock} with a ratio of {round(max_range_ratio,2)}\")"
      ]
    },
    {
      "cell_type": "markdown",
      "metadata": {},
      "source": [
        "**Additional:** why this may be important for your research?\n",
        "\n",
        "It is another indicator that helps in making informed decisions, calculating the 52-week range index helps in evaluating market volatility, risk management, market trends and historical performance."
      ]
    },
    {
      "cell_type": "markdown",
      "metadata": {},
      "source": [
        "### Question 5. [Stocks] Dividend Yield\n",
        "**Find the largest dividend yield for the same set of stocks**\n",
        "\n",
        "Use the same list of companies (2222.SR,BRK-B, AAPL, MSFT, GOOG, JPM) and download all dividends paid in 2023.\n",
        "You can use `get_actions()` method or `.dividends` field in yfinance library (https://github.com/ranaroussi/yfinance?tab=readme-ov-file#quick-start)\n",
        "\n",
        "Sum up all dividends paid in 2023 per company and divide each value by the closing price (Adj.Close) at the last trading day of the year.\n",
        "\n",
        "Find the maximum value in % and round to 1 digit after the decimal point. (E.g., if you obtained $1.25 dividends paid and the end year stock price is $100, the dividend yield is 1.25% -- and your answer should be equal to 1.3)\n",
        "\n",
        "---"
      ]
    },
    {
      "cell_type": "code",
      "execution_count": 97,
      "metadata": {},
      "outputs": [],
      "source": [
        "# Download data \n",
        "\n",
        "stocks = ['2222.SR', 'BRK-B', 'AAPL', 'MSFT', 'GOOG', 'JPM']\n",
        "data = {}\n",
        "for stock in stocks:\n",
        "    # Get dividend data for the stock in 2023\n",
        "    dividends = yf.Ticker(stock).dividends\n",
        "    dividends_2023 = dividends.loc['2023-01-01':'2023-12-31']  # Filter 2023\n",
        "    total_dividends = dividends_2023.sum() \n",
        "\n",
        "    # Get the closing price (Adj.Close) on the last trading day of the year\n",
        "    last_day_price = yf.Ticker(stock).history(period='1y')['Close'][-1]\n",
        "\n",
        "    # Divide the dividend sum by the closing price\n",
        "    data[stock] = total_dividends / last_day_price"
      ]
    },
    {
      "cell_type": "code",
      "execution_count": 98,
      "metadata": {},
      "outputs": [
        {
          "name": "stdout",
          "output_type": "stream",
          "text": [
            "Dividends paid in 2023 per company divided by closing price on the last trading day of the year:\n",
            "2222.SR: 3.0%\n",
            "BRK-B: 0.0%\n",
            "AAPL: 0.6%\n",
            "MSFT: 0.7%\n",
            "GOOG: 0.0%\n",
            "JPM: 2.1%\n"
          ]
        }
      ],
      "source": [
        "# All stocks Results\n",
        "print(\"Dividends paid in 2023 per company divided by closing price on the last trading day of the year:\")\n",
        "for stock, value in data.items():\n",
        "    print(f\"{stock}: {round(value * 100, 1)}%\")"
      ]
    },
    {
      "cell_type": "code",
      "execution_count": 99,
      "metadata": {},
      "outputs": [
        {
          "name": "stdout",
          "output_type": "stream",
          "text": [
            "Company with maximum dividend percentage in 2023 is 2222.SR percentage: 3.0\n"
          ]
        }
      ],
      "source": [
        "# Find the largest dividend yield\n",
        "max_dividend_stock, max_dividend_percentage = max(data.items(), key=lambda x: x[1])\n",
        "\n",
        "# Round\n",
        "max_dividend_percentage_rounded = round(max_dividend_percentage * 100, 1)\n",
        "\n",
        "# Result\n",
        "print(f\"Company with maximum dividend percentage in 2023 is {max_dividend_stock} percentage: {max_dividend_percentage_rounded}\")\n",
        "\n"
      ]
    },
    {
      "cell_type": "markdown",
      "metadata": {},
      "source": [
        "### Question 6. [Exploratory] Investigate new metrics\n",
        "\n",
        "**Free text answer**\n",
        "\n",
        "Download and explore a few additional metrics or time series that might be valuable for your project and write down why (briefly).\n",
        "\n",
        "---"
      ]
    },
    {
      "cell_type": "markdown",
      "metadata": {},
      "source": [
        "To analyze Bitcoin price behavior, I chose the Relative Strength Index (RSI) and the Moving Average Convergence and Divergence (MACD) are two popular technical indicators that can provide valuable information.\n",
        "\n",
        "The RSI is a momentum indicator that measures the speed and change of price movements. It helps identify overbought and oversold conditions in a market. This is useful for detecting potential turning points in the Bitcoin price trend and making buy or sell decisions accordingly.\n",
        "\n",
        "On the other hand, the MACD is a trend-following indicator that shows the relationship between two price moving averages. It consists of a MACD line and a signal line, as well as a histogram showing the difference between these two lines. Crossovers between the MACD line and the signal line can indicate changes in the direction of the Bitcoin price trend.\n",
        "\n",
        "By including RSI and MACD in the analysis of Bitcoin prices, we can gain a more complete view of market dynamics and be better equipped to identify investment opportunities or make informed trading decisions. These indicators can provide early signals of changes in price direction, which can be crucial for investors and traders looking to maximize profits and minimize losses in the cryptocurrency market."
      ]
    },
    {
      "cell_type": "code",
      "execution_count": 100,
      "metadata": {},
      "outputs": [
        {
          "data": {
            "image/png": "[encoded data removed]",
            "text/plain": [
              "<Figure size 1200x600 with 2 Axes>"
            ]
          },
          "metadata": {},
          "output_type": "display_data"
        }
      ],
      "source": [
        "# Download Bitcoin price data from CoinGecko API\n",
        "def fetch_bitcoin_price_data():\n",
        "    url = 'https://api.coingecko.com/api/v3/coins/bitcoin/market_chart?vs_currency=usd&days=365'\n",
        "    response = requests.get(url)\n",
        "    data = response.json()\n",
        "    prices = data['prices']\n",
        "    df = pd.DataFrame(prices, columns=['timestamp', 'price'])\n",
        "    df['timestamp'] = pd.to_datetime(df['timestamp'], unit='ms')\n",
        "    df.set_index('timestamp', inplace=True)\n",
        "    return df\n",
        "\n",
        "# RSI Calc\n",
        "def calculate_rsi(data, window=14):\n",
        "    rsi = ta.momentum.RSIIndicator(data['price'], window=window)\n",
        "    return rsi.rsi()\n",
        "\n",
        "# Download Bitcoin price\n",
        "bitcoin_price_data = fetch_bitcoin_price_data()\n",
        "\n",
        "# RSI Calc\n",
        "bitcoin_price_data['RSI'] = calculate_rsi(bitcoin_price_data)\n",
        "\n",
        "# Chart Bitcoin Prices and RSI\n",
        "plt.figure(figsize=(12, 6))\n",
        "plt.subplot(2, 1, 1)\n",
        "plt.plot(bitcoin_price_data['price'], label='Precio de Bitcoin', color='blue')\n",
        "plt.title('Precio de Bitcoin y RSI')\n",
        "plt.ylabel('Precio (USD)')\n",
        "plt.legend(loc='upper left')\n",
        "plt.subplot(2, 1, 2)\n",
        "plt.plot(bitcoin_price_data['RSI'], label='RSI', color='orange')\n",
        "plt.axhline(70, linestyle='--', color='red')\n",
        "plt.axhline(30, linestyle='--', color='green')\n",
        "plt.ylabel('RSI')\n",
        "plt.legend(loc='upper left')\n",
        "plt.show()\n"
      ]
    },
    {
      "cell_type": "code",
      "execution_count": 101,
      "metadata": {},
      "outputs": [
        {
          "data": {
            "image/png": "[encoded data removed]",
            "text/plain": [
              "<Figure size 1200x600 with 2 Axes>"
            ]
          },
          "metadata": {},
          "output_type": "display_data"
        }
      ],
      "source": [
        "# Download Bitcoin price data from CoinGecko API\n",
        "def fetch_bitcoin_price_data():\n",
        "    url = 'https://api.coingecko.com/api/v3/coins/bitcoin/market_chart?vs_currency=usd&days=365'\n",
        "    response = requests.get(url)\n",
        "    data = response.json()\n",
        "    prices = data['prices']\n",
        "    df = pd.DataFrame(prices, columns=['timestamp', 'price'])\n",
        "    df['timestamp'] = pd.to_datetime(df['timestamp'], unit='ms')\n",
        "    df.set_index('timestamp', inplace=True)\n",
        "    return df\n",
        "\n",
        "# MACD Calc\n",
        "def calculate_macd(data, short_window=12, long_window=26, signal_window=9):\n",
        "    macd = ta.trend.macd_diff(data['price'], window_fast=short_window, window_slow=long_window, window_sign=signal_window)\n",
        "    return macd\n",
        "\n",
        "# Download Bitcoin price\n",
        "bitcoin_price_data = fetch_bitcoin_price_data()\n",
        "\n",
        "# MACD calc\n",
        "bitcoin_price_data['MACD'] = calculate_macd(bitcoin_price_data)\n",
        "\n",
        "# Chart Bitcoin Prices and MACD\n",
        "plt.figure(figsize=(12, 6))\n",
        "plt.subplot(2, 1, 1)\n",
        "plt.plot(bitcoin_price_data['price'], label='Precio de Bitcoin', color='blue')\n",
        "plt.title('Precio de Bitcoin y MACD')\n",
        "plt.ylabel('Precio (USD)')\n",
        "plt.legend(loc='upper left')\n",
        "plt.subplot(2, 1, 2)\n",
        "plt.plot(bitcoin_price_data['MACD'], label='MACD', color='purple')\n",
        "plt.axhline(0, linestyle='--', color='gray')\n",
        "plt.ylabel('MACD')\n",
        "plt.legend(loc='upper left')\n",
        "plt.show()\n"
      ]
    },
    {
      "cell_type": "markdown",
      "metadata": {},
      "source": [
        "### Question 7. [Exploratory] Time-driven strategy description around earnings releases\n",
        "\n",
        "**Free text answer**\n",
        "\n",
        "Explore earning dates for the whole month of April - e.g. using YahooFinance earnings calendar (https://finance.yahoo.com/calendar/earnings?from=2024-04-21&to=2024-04-27&day=2024-04-23). Compare with the previous closed earnings (e.g., recent dates with full data https://finance.yahoo.com/calendar/earnings?from=2024-04-07&to=2024-04-13&day=2024-04-08). \n",
        "\n",
        "Describe an analytical strategy/idea (you're not required to implement it) to select a subset companies of interest based on the future events data.\n",
        "\n"
      ]
    },
    {
      "cell_type": "markdown",
      "metadata": {},
      "source": [
        "The strategy could begin by collecting data on future earnings reporting dates. These dates could then be compared to previous earnings reports to identify patterns or trends in stock behavior before and after earnings reports.\n",
        "\n",
        "The idea would be to analyze the historical volatility of each company's shares before and after earnings reports. Those companies that have experienced high volatility in the past could be selected as candidates for further analysis, as volatility often presents trading opportunities. Additionally, the direction of stock price movement (bullish or bearish) before and after earnings reports could be considered to identify possible behavioral patterns.\n",
        "\n",
        "Another approach could be to analyze the relationship between stock performance and market expectations ahead of earnings reports. Those companies whose shares have shown performance significantly different from market expectations could be subject to further analysis, as this could indicate a trading opportunity based on discrepancies between expectations and actual results.\n"
      ]
    },
    {
      "cell_type": "markdown",
      "metadata": {},
      "source": [
        "## Submitting the solutions\n",
        "\n",
        "Form for submitting: https://courses.datatalks.club/sma-zoomcamp-2024/homework/hw01"
      ]
    }
  ],
  "metadata": {
    "colab": {
      "authorship_tag": "ABX9TyOnwCtQvzWlu9e0XyQ1VJtQ",
      "include_colab_link": true,
      "provenance": []
    },
    "kernelspec": {
      "display_name": "Python 3",
      "name": "python3"
    },
    "language_info": {
      "codemirror_mode": {
        "name": "ipython",
        "version": 3
      },
      "file_extension": ".py",
      "mimetype": "text/x-python",
      "name": "python",
      "nbconvert_exporter": "python",
      "pygments_lexer": "ipython3",
      "version": "3.11.4"
    }
  },
  "nbformat": 4,
  "nbformat_minor": 0
}
