{
  "cells": [
    {
      "cell_type": "markdown",
      "metadata": {
        "id": "m62k98fy-gx5"
      },
      "source": [
        "## Module 1 Homework\n",
        "\n",
        "In this homework, we're going to download finance data from various sources and make simple calculations/analysis.\n",
        "\n",
        "---"
      ]
    },
    {
      "cell_type": "code",
      "execution_count": 48,
      "metadata": {},
      "outputs": [],
      "source": [
        "# IMPORTS\n",
        "import numpy as np\n",
        "import pandas as pd\n",
        "\n",
        "#Fin Data Sources\n",
        "import yfinance as yf\n",
        "import pandas_datareader as pdr\n",
        "\n",
        "#Data viz\n",
        "import plotly.graph_objs as go\n",
        "import plotly.express as px\n",
        "\n",
        "import time\n",
        "from datetime import date"
      ]
    },
    {
      "cell_type": "markdown",
      "metadata": {},
      "source": [
        "\n",
        "### Question 1: [Macro] Average growth of GDP in 2023\n",
        "\n",
        "**What is the average growth (in %) of GDP in 2023?**\n",
        "\n",
        "Download the timeseries Real Gross Domestic Product (GDPC1) from FRED (https://fred.stlouisfed.org/series/GDPC1). \n",
        "Calculate year-over-year (YoY) growth rate (that is, divide current value to one 4 quarters ago). Find the average YoY growth in 2023 (average from 4 YoY numbers).\n",
        "Round to 1 digit after the decimal point: e.g. if you get 5.66% growth => you should answer  5.7\n",
        "\n",
        "---\n"
      ]
    },
    {
      "cell_type": "code",
      "execution_count": 49,
      "metadata": {},
      "outputs": [
        {
          "name": "stdout",
          "output_type": "stream",
          "text": [
            "Year = 2024; month= 4; day=23\n",
            "Period for indexes: 1954-04-23 to 2024-04-23 \n"
          ]
        }
      ],
      "source": [
        "# Get dates\n",
        "end = date.today()\n",
        "start = date(year=end.year-70, month=end.month, day=end.day)\n",
        "print(f'Year = {end.year}; month= {end.month}; day={end.day}')\n",
        "print(f'Period for indexes: {start} to {end} ')"
      ]
    },
    {
      "cell_type": "code",
      "execution_count": 50,
      "metadata": {},
      "outputs": [],
      "source": [
        "# Download Real Gross Domestic Product (GDPC1)\n",
        "# https://fred.stlouisfed.org/series/GDPC1\n",
        "gdpc1 = pdr.DataReader(\"GDPC1\", \"fred\", start=start)"
      ]
    },
    {
      "cell_type": "code",
      "execution_count": 51,
      "metadata": {},
      "outputs": [
        {
          "data": {
            "text/html": [
              "<div>\n",
              "<style scoped>\n",
              "    .dataframe tbody tr th:only-of-type {\n",
              "        vertical-align: middle;\n",
              "    }\n",
              "\n",
              "    .dataframe tbody tr th {\n",
              "        vertical-align: top;\n",
              "    }\n",
              "\n",
              "    .dataframe thead th {\n",
              "        text-align: right;\n",
              "    }\n",
              "</style>\n",
              "<table border=\"1\" class=\"dataframe\">\n",
              "  <thead>\n",
              "    <tr style=\"text-align: right;\">\n",
              "      <th></th>\n",
              "      <th>GDPC1</th>\n",
              "      <th>gdpc1_us_yoy</th>\n",
              "      <th>gdpc1_us_qoq</th>\n",
              "    </tr>\n",
              "    <tr>\n",
              "      <th>DATE</th>\n",
              "      <th></th>\n",
              "      <th></th>\n",
              "      <th></th>\n",
              "    </tr>\n",
              "  </thead>\n",
              "  <tbody>\n",
              "    <tr>\n",
              "      <th>2022-10-01</th>\n",
              "      <td>21989.981</td>\n",
              "      <td>0.006517</td>\n",
              "      <td>0.006354</td>\n",
              "    </tr>\n",
              "    <tr>\n",
              "      <th>2023-01-01</th>\n",
              "      <td>22112.329</td>\n",
              "      <td>0.017179</td>\n",
              "      <td>0.005564</td>\n",
              "    </tr>\n",
              "    <tr>\n",
              "      <th>2023-04-01</th>\n",
              "      <td>22225.350</td>\n",
              "      <td>0.023825</td>\n",
              "      <td>0.005111</td>\n",
              "    </tr>\n",
              "    <tr>\n",
              "      <th>2023-07-01</th>\n",
              "      <td>22490.692</td>\n",
              "      <td>0.029269</td>\n",
              "      <td>0.011939</td>\n",
              "    </tr>\n",
              "    <tr>\n",
              "      <th>2023-10-01</th>\n",
              "      <td>22679.255</td>\n",
              "      <td>0.031345</td>\n",
              "      <td>0.008384</td>\n",
              "    </tr>\n",
              "  </tbody>\n",
              "</table>\n",
              "</div>"
            ],
            "text/plain": [
              "                GDPC1  gdpc1_us_yoy  gdpc1_us_qoq\n",
              "DATE                                             \n",
              "2022-10-01  21989.981      0.006517      0.006354\n",
              "2023-01-01  22112.329      0.017179      0.005564\n",
              "2023-04-01  22225.350      0.023825      0.005111\n",
              "2023-07-01  22490.692      0.029269      0.011939\n",
              "2023-10-01  22679.255      0.031345      0.008384"
            ]
          },
          "execution_count": 51,
          "metadata": {},
          "output_type": "execute_result"
        }
      ],
      "source": [
        "gdpc1['gdpc1_us_yoy'] = gdpc1.GDPC1/gdpc1.GDPC1.shift(4)-1\n",
        "gdpc1['gdpc1_us_qoq'] = gdpc1.GDPC1/gdpc1.GDPC1.shift(1)-1\n",
        "gdpc1.tail()"
      ]
    },
    {
      "cell_type": "code",
      "execution_count": 52,
      "metadata": {},
      "outputs": [
        {
          "data": {
            "text/plain": [
              "0.02540443392867625"
            ]
          },
          "execution_count": 52,
          "metadata": {},
          "output_type": "execute_result"
        }
      ],
      "source": [
        "# Filter data for 2023\n",
        "gdpc1_2023 = gdpc1.loc['2023']\n",
        "\n",
        "# Calculate average YoY growth in 2023\n",
        "average_yoy_growth_2023 = gdpc1_2023['gdpc1_us_yoy'].mean()\n",
        "average_yoy_growth_2023"
      ]
    },
    {
      "cell_type": "code",
      "execution_count": 53,
      "metadata": {},
      "outputs": [
        {
          "name": "stdout",
          "output_type": "stream",
          "text": [
            "Year = 2024; month= 4; day=23\n",
            "Period for indexes: 1954-04-23 to 2024-04-23 \n",
            "Average YoY growth in 2023: 2.5%\n"
          ]
        }
      ],
      "source": [
        "# Round the result to 1 decimal\n",
        "# Convert to percentage and round\n",
        "average_yoy_growth_2023 = round(average_yoy_growth_2023 * 100, 1)\n",
        "\n",
        "print(f'Year = {end.year}; month= {end.month}; day={end.day}')\n",
        "print(f'Period for indexes: {start} to {end} ')\n",
        "print(f'Average YoY growth in 2023: {average_yoy_growth_2023}%')"
      ]
    },
    {
      "cell_type": "markdown",
      "metadata": {},
      "source": [
        "### Question 2. [Macro] Inverse \"Treasury Yield\"\n",
        "\n",
        "**Find the min value of (dgs10-dgs2) after since year 2000 (2000-01-01) and write it down as an answer, round to 1 digit after the decimal point.**\n",
        "\n",
        "\n",
        "Download DGS2 and DGS10 interest rates series (https://fred.stlouisfed.org/series/DGS2,\n",
        " https://fred.stlouisfed.org/series/DGS10). Join them together to one dataframe on date (you might need to read about pandas.DataFrame.join()), calculate the difference dgs10-dgs2 daily.\n",
        "    \n",
        "(Additional: think about what does the \"inverted yield curve\" mean for the market and investors? do you see the same thing in your country/market of interest? Do you think it can be a good predictive feature for the models?)\n",
        "\n",
        "---"
      ]
    },
    {
      "cell_type": "code",
      "execution_count": 54,
      "metadata": {},
      "outputs": [],
      "source": [
        "#Download DGS2 and DGS10 from FRED\n",
        "start = date(2000, 1, 1)\n",
        "dgs2 = pdr.DataReader(\"DGS2\", \"fred\", start=start)\n",
        "dgs10 = pdr.DataReader(\"DGS10\", \"fred\", start=start)"
      ]
    },
    {
      "cell_type": "code",
      "execution_count": 55,
      "metadata": {},
      "outputs": [
        {
          "data": {
            "text/html": [
              "<div>\n",
              "<style scoped>\n",
              "    .dataframe tbody tr th:only-of-type {\n",
              "        vertical-align: middle;\n",
              "    }\n",
              "\n",
              "    .dataframe tbody tr th {\n",
              "        vertical-align: top;\n",
              "    }\n",
              "\n",
              "    .dataframe thead th {\n",
              "        text-align: right;\n",
              "    }\n",
              "</style>\n",
              "<table border=\"1\" class=\"dataframe\">\n",
              "  <thead>\n",
              "    <tr style=\"text-align: right;\">\n",
              "      <th></th>\n",
              "      <th>DGS2</th>\n",
              "      <th>DGS10</th>\n",
              "    </tr>\n",
              "    <tr>\n",
              "      <th>DATE</th>\n",
              "      <th></th>\n",
              "      <th></th>\n",
              "    </tr>\n",
              "  </thead>\n",
              "  <tbody>\n",
              "    <tr>\n",
              "      <th>2000-01-03</th>\n",
              "      <td>6.38</td>\n",
              "      <td>6.58</td>\n",
              "    </tr>\n",
              "    <tr>\n",
              "      <th>2000-01-04</th>\n",
              "      <td>6.30</td>\n",
              "      <td>6.49</td>\n",
              "    </tr>\n",
              "    <tr>\n",
              "      <th>2000-01-05</th>\n",
              "      <td>6.38</td>\n",
              "      <td>6.62</td>\n",
              "    </tr>\n",
              "    <tr>\n",
              "      <th>2000-01-06</th>\n",
              "      <td>6.35</td>\n",
              "      <td>6.57</td>\n",
              "    </tr>\n",
              "    <tr>\n",
              "      <th>2000-01-07</th>\n",
              "      <td>6.31</td>\n",
              "      <td>6.52</td>\n",
              "    </tr>\n",
              "    <tr>\n",
              "      <th>...</th>\n",
              "      <td>...</td>\n",
              "      <td>...</td>\n",
              "    </tr>\n",
              "    <tr>\n",
              "      <th>2024-04-16</th>\n",
              "      <td>4.97</td>\n",
              "      <td>4.67</td>\n",
              "    </tr>\n",
              "    <tr>\n",
              "      <th>2024-04-17</th>\n",
              "      <td>4.93</td>\n",
              "      <td>4.59</td>\n",
              "    </tr>\n",
              "    <tr>\n",
              "      <th>2024-04-18</th>\n",
              "      <td>4.98</td>\n",
              "      <td>4.64</td>\n",
              "    </tr>\n",
              "    <tr>\n",
              "      <th>2024-04-19</th>\n",
              "      <td>4.97</td>\n",
              "      <td>4.62</td>\n",
              "    </tr>\n",
              "    <tr>\n",
              "      <th>2024-04-22</th>\n",
              "      <td>4.97</td>\n",
              "      <td>4.62</td>\n",
              "    </tr>\n",
              "  </tbody>\n",
              "</table>\n",
              "<p>6341 rows × 2 columns</p>\n",
              "</div>"
            ],
            "text/plain": [
              "            DGS2  DGS10\n",
              "DATE                   \n",
              "2000-01-03  6.38   6.58\n",
              "2000-01-04  6.30   6.49\n",
              "2000-01-05  6.38   6.62\n",
              "2000-01-06  6.35   6.57\n",
              "2000-01-07  6.31   6.52\n",
              "...          ...    ...\n",
              "2024-04-16  4.97   4.67\n",
              "2024-04-17  4.93   4.59\n",
              "2024-04-18  4.98   4.64\n",
              "2024-04-19  4.97   4.62\n",
              "2024-04-22  4.97   4.62\n",
              "\n",
              "[6341 rows x 2 columns]"
            ]
          },
          "execution_count": 55,
          "metadata": {},
          "output_type": "execute_result"
        }
      ],
      "source": [
        "#Join dgs2 and dgs10\n",
        "df = pd.concat([dgs2, dgs10], axis=1)\n",
        "df"
      ]
    },
    {
      "cell_type": "code",
      "execution_count": 56,
      "metadata": {},
      "outputs": [
        {
          "data": {
            "text/html": [
              "<div>\n",
              "<style scoped>\n",
              "    .dataframe tbody tr th:only-of-type {\n",
              "        vertical-align: middle;\n",
              "    }\n",
              "\n",
              "    .dataframe tbody tr th {\n",
              "        vertical-align: top;\n",
              "    }\n",
              "\n",
              "    .dataframe thead th {\n",
              "        text-align: right;\n",
              "    }\n",
              "</style>\n",
              "<table border=\"1\" class=\"dataframe\">\n",
              "  <thead>\n",
              "    <tr style=\"text-align: right;\">\n",
              "      <th></th>\n",
              "      <th>DGS2</th>\n",
              "      <th>DGS10</th>\n",
              "      <th>difference</th>\n",
              "    </tr>\n",
              "    <tr>\n",
              "      <th>DATE</th>\n",
              "      <th></th>\n",
              "      <th></th>\n",
              "      <th></th>\n",
              "    </tr>\n",
              "  </thead>\n",
              "  <tbody>\n",
              "    <tr>\n",
              "      <th>2000-01-03</th>\n",
              "      <td>6.38</td>\n",
              "      <td>6.58</td>\n",
              "      <td>0.20</td>\n",
              "    </tr>\n",
              "    <tr>\n",
              "      <th>2000-01-04</th>\n",
              "      <td>6.30</td>\n",
              "      <td>6.49</td>\n",
              "      <td>0.19</td>\n",
              "    </tr>\n",
              "    <tr>\n",
              "      <th>2000-01-05</th>\n",
              "      <td>6.38</td>\n",
              "      <td>6.62</td>\n",
              "      <td>0.24</td>\n",
              "    </tr>\n",
              "    <tr>\n",
              "      <th>2000-01-06</th>\n",
              "      <td>6.35</td>\n",
              "      <td>6.57</td>\n",
              "      <td>0.22</td>\n",
              "    </tr>\n",
              "    <tr>\n",
              "      <th>2000-01-07</th>\n",
              "      <td>6.31</td>\n",
              "      <td>6.52</td>\n",
              "      <td>0.21</td>\n",
              "    </tr>\n",
              "    <tr>\n",
              "      <th>...</th>\n",
              "      <td>...</td>\n",
              "      <td>...</td>\n",
              "      <td>...</td>\n",
              "    </tr>\n",
              "    <tr>\n",
              "      <th>2024-04-16</th>\n",
              "      <td>4.97</td>\n",
              "      <td>4.67</td>\n",
              "      <td>-0.30</td>\n",
              "    </tr>\n",
              "    <tr>\n",
              "      <th>2024-04-17</th>\n",
              "      <td>4.93</td>\n",
              "      <td>4.59</td>\n",
              "      <td>-0.34</td>\n",
              "    </tr>\n",
              "    <tr>\n",
              "      <th>2024-04-18</th>\n",
              "      <td>4.98</td>\n",
              "      <td>4.64</td>\n",
              "      <td>-0.34</td>\n",
              "    </tr>\n",
              "    <tr>\n",
              "      <th>2024-04-19</th>\n",
              "      <td>4.97</td>\n",
              "      <td>4.62</td>\n",
              "      <td>-0.35</td>\n",
              "    </tr>\n",
              "    <tr>\n",
              "      <th>2024-04-22</th>\n",
              "      <td>4.97</td>\n",
              "      <td>4.62</td>\n",
              "      <td>-0.35</td>\n",
              "    </tr>\n",
              "  </tbody>\n",
              "</table>\n",
              "<p>6341 rows × 3 columns</p>\n",
              "</div>"
            ],
            "text/plain": [
              "            DGS2  DGS10  difference\n",
              "DATE                               \n",
              "2000-01-03  6.38   6.58        0.20\n",
              "2000-01-04  6.30   6.49        0.19\n",
              "2000-01-05  6.38   6.62        0.24\n",
              "2000-01-06  6.35   6.57        0.22\n",
              "2000-01-07  6.31   6.52        0.21\n",
              "...          ...    ...         ...\n",
              "2024-04-16  4.97   4.67       -0.30\n",
              "2024-04-17  4.93   4.59       -0.34\n",
              "2024-04-18  4.98   4.64       -0.34\n",
              "2024-04-19  4.97   4.62       -0.35\n",
              "2024-04-22  4.97   4.62       -0.35\n",
              "\n",
              "[6341 rows x 3 columns]"
            ]
          },
          "execution_count": 56,
          "metadata": {},
          "output_type": "execute_result"
        }
      ],
      "source": [
        "# Calculate the difference between DGS2 and DGS10\n",
        "df['difference'] = df['DGS10'] - df['DGS2']\n",
        "df"
      ]
    },
    {
      "cell_type": "code",
      "execution_count": 57,
      "metadata": {},
      "outputs": [
        {
          "data": {
            "text/plain": [
              "-1.1"
            ]
          },
          "execution_count": 57,
          "metadata": {},
          "output_type": "execute_result"
        }
      ],
      "source": [
        "# Find the min value of (dgs10-dgs2)\n",
        "# Round to 1 digit after the decimal point\n",
        "\n",
        "min_difference = round(df['difference'].min(), 1)\n",
        "min_difference"
      ]
    },
    {
      "cell_type": "code",
      "execution_count": 58,
      "metadata": {},
      "outputs": [
        {
          "name": "stdout",
          "output_type": "stream",
          "text": [
            "The min value of (dgs10-dgs2) since 2000-01-01 is: -1.1\n"
          ]
        }
      ],
      "source": [
        "print(f\"The min value of (dgs10-dgs2) since 2000-01-01 is: {min_difference}\")"
      ]
    },
    {
      "cell_type": "markdown",
      "metadata": {},
      "source": [
        "### Question 3. [Index] Which Index is better recently?\n",
        "\n",
        "**Compare S&P 500 and IPC Mexico indexes by the 5 year growth and write down the largest value as an answer (%)**\n",
        "\n",
        "Download on Yahoo Finance two daily index prices for S&P 500 (^GSPC, https://finance.yahoo.com/quote/%5EGSPC/) and IPC Mexico (^MXX, https://finance.yahoo.com/quote/%5EMXX/). Compare 5Y growth for both (between 2019-04-09 and 2024-04-09). Select the higher growing index and write down the growth in % (closest integer %). E.g. if ratio end/start was 2.0925 (or growth of 109.25%), you need to write down 109 as your answer.\n",
        "\n",
        "(Additional: think of other indexes and try to download stats and compare the growth? Do create 10Y and 20Y growth stats. What is an average yearly growth rate (CAGR) for each of the indexes you select?)\n",
        "\n",
        "---"
      ]
    },
    {
      "cell_type": "code",
      "execution_count": 59,
      "metadata": {},
      "outputs": [
        {
          "name": "stderr",
          "output_type": "stream",
          "text": [
            "[*********************100%%**********************]  1 of 1 completed\n",
            "[*********************100%%**********************]  1 of 1 completed\n"
          ]
        }
      ],
      "source": [
        "#Define dates\n",
        "start_date = \"2019-04-09\"\n",
        "end_date = \"2024-04-09\"\n",
        "\n",
        "#Download S&P 500\n",
        "sp500 = yf.download(tickers=\"^GSPC\", start=start_date, end=end_date, interval=\"1d\")\n",
        "\n",
        "#Download IPC Mexico\n",
        "ipc_mex = yf.download(tickers=\"^MXX\", start=start_date, end=end_date, interval=\"1d\")"
      ]
    },
    {
      "cell_type": "code",
      "execution_count": 60,
      "metadata": {},
      "outputs": [],
      "source": [
        "# Calculate growth\n",
        "sp500_growth = (sp500['Close'].iloc[-1] / sp500['Close'].iloc[0]) - 1\n",
        "\n",
        "ipc_mex_growth= (ipc_mex['Close'].iloc[-1] / ipc_mex['Close'].iloc[0]) - 1"
      ]
    },
    {
      "cell_type": "code",
      "execution_count": 61,
      "metadata": {},
      "outputs": [
        {
          "name": "stdout",
          "output_type": "stream",
          "text": [
            "S&P 500 index had the higher growth at 81%.\n"
          ]
        }
      ],
      "source": [
        "#  Select the higher growing index and write down the growth in %\n",
        "\n",
        "if sp500_growth > ipc_mex_growth:\n",
        "    print(f\"S&P 500 index had the higher growth at {round(sp500_growth * 100)}%.\")\n",
        "else:\n",
        "    print(f\"IPC Mexico index had the higher growth at {round(ipc_mex_growth * 100)}%.\")"
      ]
    },
    {
      "cell_type": "markdown",
      "metadata": {},
      "source": [
        "### Question 4. [Stocks OHLCV] 52-weeks range ratio (2023) for the selected stocks\n",
        "\n",
        "\n",
        "**Find the largest range ratio [=(max-min)/max] of Adj.Close prices in 2023**\n",
        "\n",
        "\n",
        "Download the 2023 daily OHLCV data on Yahoo Finance for top6 stocks on earnings (https://companiesmarketcap.com/most-profitable-companies/): 2222.SR,BRK-B, AAPL, MSFT, GOOG, JPM.\n",
        "\n",
        "Here is the example data you should see in Pandas for \"2222.SR\": https://finance.yahoo.com/quote/2222.SR/history\n",
        "\n",
        "Calculate maximum-minimim \"Adj.Close\" price for each stock and divide it by the maximum \"Adj.Close\" value.\n",
        "Round the result to two decimal places (e.g. 0.1575 will be 0.16)\n",
        "\n",
        "(Additional: why this may be important for your research?)\n",
        "\n",
        "---"
      ]
    },
    {
      "cell_type": "code",
      "execution_count": 66,
      "metadata": {},
      "outputs": [
        {
          "name": "stderr",
          "output_type": "stream",
          "text": [
            "[*********************100%%**********************]  1 of 1 completed\n",
            "[*********************100%%**********************]  1 of 1 completed\n",
            "[*********************100%%**********************]  1 of 1 completed\n",
            "[*********************100%%**********************]  1 of 1 completed\n",
            "[*********************100%%**********************]  1 of 1 completed\n",
            "[*********************100%%**********************]  1 of 1 completed\n"
          ]
        }
      ],
      "source": [
        "# Download data \n",
        "\n",
        "# 2222.SR\n",
        "SAR = yf.download(tickers = \"2222.SR\", period = \"max\", interval = \"1d\")\n",
        "\n",
        "#BRK-B\n",
        "BRK = yf.download(tickers = \"BRK-B\", period = \"max\", interval = \"1d\")\n",
        "\n",
        "#AAPL\n",
        "AAPL = yf.download(tickers = \"AAPL\", period = \"max\", interval = \"1d\")\n",
        "\n",
        "#MSFT\n",
        "MSFT = yf.download(tickers = \"MSFT\", period = \"max\", interval = \"1d\")\n",
        "\n",
        "#GOOG\n",
        "GOOG = yf.download(tickers = \"GOOG\", period = \"max\", interval = \"1d\")\n",
        "\n",
        "#JPM\n",
        "JPM = yf.download(tickers = \"JPM\", period = \"max\", interval = \"1d\")\n"
      ]
    },
    {
      "cell_type": "code",
      "execution_count": 65,
      "metadata": {},
      "outputs": [
        {
          "data": {
            "text/html": [
              "<div>\n",
              "<style scoped>\n",
              "    .dataframe tbody tr th:only-of-type {\n",
              "        vertical-align: middle;\n",
              "    }\n",
              "\n",
              "    .dataframe tbody tr th {\n",
              "        vertical-align: top;\n",
              "    }\n",
              "\n",
              "    .dataframe thead th {\n",
              "        text-align: right;\n",
              "    }\n",
              "</style>\n",
              "<table border=\"1\" class=\"dataframe\">\n",
              "  <thead>\n",
              "    <tr style=\"text-align: right;\">\n",
              "      <th></th>\n",
              "      <th>Open</th>\n",
              "      <th>High</th>\n",
              "      <th>Low</th>\n",
              "      <th>Close</th>\n",
              "      <th>Adj Close</th>\n",
              "      <th>Volume</th>\n",
              "    </tr>\n",
              "    <tr>\n",
              "      <th>Date</th>\n",
              "      <th></th>\n",
              "      <th></th>\n",
              "      <th></th>\n",
              "      <th></th>\n",
              "      <th></th>\n",
              "      <th></th>\n",
              "    </tr>\n",
              "  </thead>\n",
              "  <tbody>\n",
              "    <tr>\n",
              "      <th>2019-12-11</th>\n",
              "      <td>29.090908</td>\n",
              "      <td>29.090908</td>\n",
              "      <td>29.090908</td>\n",
              "      <td>29.090908</td>\n",
              "      <td>25.485229</td>\n",
              "      <td>38289394</td>\n",
              "    </tr>\n",
              "    <tr>\n",
              "      <th>2019-12-12</th>\n",
              "      <td>31.983471</td>\n",
              "      <td>31.983471</td>\n",
              "      <td>29.752066</td>\n",
              "      <td>30.413223</td>\n",
              "      <td>26.643656</td>\n",
              "      <td>505692621</td>\n",
              "    </tr>\n",
              "    <tr>\n",
              "      <th>2019-12-15</th>\n",
              "      <td>30.661158</td>\n",
              "      <td>30.991735</td>\n",
              "      <td>30.413223</td>\n",
              "      <td>30.909090</td>\n",
              "      <td>27.078062</td>\n",
              "      <td>98349281</td>\n",
              "    </tr>\n",
              "    <tr>\n",
              "      <th>2019-12-16</th>\n",
              "      <td>30.991735</td>\n",
              "      <td>31.487602</td>\n",
              "      <td>30.991735</td>\n",
              "      <td>31.404959</td>\n",
              "      <td>27.512466</td>\n",
              "      <td>105973907</td>\n",
              "    </tr>\n",
              "    <tr>\n",
              "      <th>2019-12-17</th>\n",
              "      <td>31.446280</td>\n",
              "      <td>31.528925</td>\n",
              "      <td>30.991735</td>\n",
              "      <td>31.198347</td>\n",
              "      <td>27.331469</td>\n",
              "      <td>142672245</td>\n",
              "    </tr>\n",
              "    <tr>\n",
              "      <th>...</th>\n",
              "      <td>...</td>\n",
              "      <td>...</td>\n",
              "      <td>...</td>\n",
              "      <td>...</td>\n",
              "      <td>...</td>\n",
              "      <td>...</td>\n",
              "    </tr>\n",
              "    <tr>\n",
              "      <th>2024-04-17</th>\n",
              "      <td>30.049999</td>\n",
              "      <td>30.150000</td>\n",
              "      <td>29.900000</td>\n",
              "      <td>29.950001</td>\n",
              "      <td>29.950001</td>\n",
              "      <td>16440263</td>\n",
              "    </tr>\n",
              "    <tr>\n",
              "      <th>2024-04-18</th>\n",
              "      <td>30.000000</td>\n",
              "      <td>30.049999</td>\n",
              "      <td>29.850000</td>\n",
              "      <td>29.900000</td>\n",
              "      <td>29.900000</td>\n",
              "      <td>7985988</td>\n",
              "    </tr>\n",
              "    <tr>\n",
              "      <th>2024-04-21</th>\n",
              "      <td>30.000000</td>\n",
              "      <td>30.200001</td>\n",
              "      <td>29.900000</td>\n",
              "      <td>30.049999</td>\n",
              "      <td>30.049999</td>\n",
              "      <td>8988623</td>\n",
              "    </tr>\n",
              "    <tr>\n",
              "      <th>2024-04-22</th>\n",
              "      <td>30.100000</td>\n",
              "      <td>30.299999</td>\n",
              "      <td>30.000000</td>\n",
              "      <td>30.150000</td>\n",
              "      <td>30.150000</td>\n",
              "      <td>12033500</td>\n",
              "    </tr>\n",
              "    <tr>\n",
              "      <th>2024-04-23</th>\n",
              "      <td>30.200001</td>\n",
              "      <td>30.299999</td>\n",
              "      <td>30.000000</td>\n",
              "      <td>30.100000</td>\n",
              "      <td>30.100000</td>\n",
              "      <td>6951340</td>\n",
              "    </tr>\n",
              "  </tbody>\n",
              "</table>\n",
              "<p>1088 rows × 6 columns</p>\n",
              "</div>"
            ],
            "text/plain": [
              "                 Open       High        Low      Close  Adj Close     Volume\n",
              "Date                                                                        \n",
              "2019-12-11  29.090908  29.090908  29.090908  29.090908  25.485229   38289394\n",
              "2019-12-12  31.983471  31.983471  29.752066  30.413223  26.643656  505692621\n",
              "2019-12-15  30.661158  30.991735  30.413223  30.909090  27.078062   98349281\n",
              "2019-12-16  30.991735  31.487602  30.991735  31.404959  27.512466  105973907\n",
              "2019-12-17  31.446280  31.528925  30.991735  31.198347  27.331469  142672245\n",
              "...               ...        ...        ...        ...        ...        ...\n",
              "2024-04-17  30.049999  30.150000  29.900000  29.950001  29.950001   16440263\n",
              "2024-04-18  30.000000  30.049999  29.850000  29.900000  29.900000    7985988\n",
              "2024-04-21  30.000000  30.200001  29.900000  30.049999  30.049999    8988623\n",
              "2024-04-22  30.100000  30.299999  30.000000  30.150000  30.150000   12033500\n",
              "2024-04-23  30.200001  30.299999  30.000000  30.100000  30.100000    6951340\n",
              "\n",
              "[1088 rows x 6 columns]"
            ]
          },
          "execution_count": 65,
          "metadata": {},
          "output_type": "execute_result"
        }
      ],
      "source": [
        "SAR"
      ]
    },
    {
      "cell_type": "markdown",
      "metadata": {},
      "source": [
        "### Question 5. [Stocks] Dividend Yield\n",
        "**Find the largest dividend yield for the same set of stocks**\n",
        "\n",
        "Use the same list of companies (2222.SR,BRK-B, AAPL, MSFT, GOOG, JPM) and download all dividends paid in 2023.\n",
        "You can use `get_actions()` method or `.dividends` field in yfinance library (https://github.com/ranaroussi/yfinance?tab=readme-ov-file#quick-start)\n",
        "\n",
        "Sum up all dividends paid in 2023 per company and divide each value by the closing price (Adj.Close) at the last trading day of the year.\n",
        "\n",
        "Find the maximum value in % and round to 1 digit after the decimal point. (E.g., if you obtained $1.25 dividends paid and the end year stock price is $100, the dividend yield is 1.25% -- and your answer should be equal to 1.3)\n",
        "\n",
        "---"
      ]
    },
    {
      "cell_type": "markdown",
      "metadata": {},
      "source": [
        "### Question 6. [Exploratory] Investigate new metrics\n",
        "\n",
        "**Free text answer**\n",
        "\n",
        "Download and explore a few additional metrics or time series that might be valuable for your project and write down why (briefly).\n",
        "\n",
        "---"
      ]
    },
    {
      "cell_type": "markdown",
      "metadata": {},
      "source": [
        "### Question 7. [Exploratory] Time-driven strategy description around earnings releases\n",
        "\n",
        "**Free text answer**\n",
        "\n",
        "Explore earning dates for the whole month of April - e.g. using YahooFinance earnings calendar (https://finance.yahoo.com/calendar/earnings?from=2024-04-21&to=2024-04-27&day=2024-04-23). Compare with the previous closed earnings (e.g., recent dates with full data https://finance.yahoo.com/calendar/earnings?from=2024-04-07&to=2024-04-13&day=2024-04-08). \n",
        "\n",
        "Describe an analytical strategy/idea (you're not required to implement it) to select a subset companies of interest based on the future events data.\n",
        "\n"
      ]
    },
    {
      "cell_type": "markdown",
      "metadata": {},
      "source": [
        "## Submitting the solutions\n",
        "\n",
        "Form for submitting: https://courses.datatalks.club/sma-zoomcamp-2024/homework/hw01"
      ]
    },
    {
      "cell_type": "code",
      "execution_count": null,
      "metadata": {
        "id": "_pRxE1t5-kZU"
      },
      "outputs": [],
      "source": []
    }
  ],
  "metadata": {
    "colab": {
      "authorship_tag": "ABX9TyOnwCtQvzWlu9e0XyQ1VJtQ",
      "include_colab_link": true,
      "provenance": []
    },
    "kernelspec": {
      "display_name": "Python 3",
      "name": "python3"
    },
    "language_info": {
      "codemirror_mode": {
        "name": "ipython",
        "version": 3
      },
      "file_extension": ".py",
      "mimetype": "text/x-python",
      "name": "python",
      "nbconvert_exporter": "python",
      "pygments_lexer": "ipython3",
      "version": "3.11.4"
    }
  },
  "nbformat": 4,
  "nbformat_minor": 0
}
