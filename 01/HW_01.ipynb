{
  "nbformat": 4,
  "nbformat_minor": 0,
  "metadata": {
    "colab": {
      "provenance": [],
      "authorship_tag": "ABX9TyOnwCtQvzWlu9e0XyQ1VJtQ",
      "include_colab_link": true
    },
    "kernelspec": {
      "name": "python3",
      "display_name": "Python 3"
    },
    "language_info": {
      "name": "python"
    }
  },
  "cells": [
    {
      "cell_type": "markdown",
      "metadata": {
        "id": "view-in-github",
        "colab_type": "text"
      },
      "source": [
        "<a href=\"https://colab.research.google.com/github/mary435/stock-markets-analytics/blob/main/01/HW_01.ipynb\" target=\"_parent\"><img src=\"https://colab.research.google.com/assets/colab-badge.svg\" alt=\"Open In Colab\"/></a>"
      ]
    },
    {
      "cell_type": "code",
      "execution_count": null,
      "metadata": {
        "id": "Quy-QzzlpgD8"
      },
      "outputs": [],
      "source": []
    },
    {
      "cell_type": "markdown",
      "source": [
        "## Module 1 Homework\n",
        "\n",
        "In this homework, we're going to download finance data from various sources and make simple calculations/analysis.\n",
        "\n",
        "---"
      ],
      "metadata": {
        "id": "m62k98fy-gx5"
      }
    },
    {
      "cell_type": "code",
      "source": [],
      "metadata": {
        "id": "_pRxE1t5-kZU"
      },
      "execution_count": null,
      "outputs": []
    }
  ]
}