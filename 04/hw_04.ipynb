{
  "cells": [
    {
      "cell_type": "markdown",
      "metadata": {
        "colab_type": "text",
        "id": "view-in-github"
      },
      "source": [
        "<a href=\"https://colab.research.google.com/github/mary435/stock-markets-analytics/blob/main/04/hw_04.ipynb\" target=\"_parent\"><img src=\"https://colab.research.google.com/assets/colab-badge.svg\" alt=\"Open In Colab\"/></a>"
      ]
    },
    {
      "cell_type": "markdown",
      "metadata": {
        "id": "5vcXxbbHVytA"
      },
      "source": [
        "## Module 4 Homework\n",
        "\n",
        "\n",
        "In this homework, you are required to understand how the system works as a whole, adjust the code accordingly, and interpret the results correctly. The task involves modifying a few lines of code, with hints provided in the form of comments labeled \"TODO: HQ4 Q..\".\n",
        "\n",
        "Please use the new workbook [Module_04_HA_Workbook](https://github.com/DataTalksClub/stock-markets-analytics-zoomcamp/blob/main/04-trading-strategy-and-simulation/Module_04_HA_Workbook.ipynb) for all tasks. This workbook contains a clean version of the code, with hyperparameter tuning commented out and the best models hard-coded. It should take a few minutes to run on Google Colab. Before solving the problems, ensure you can run the workbook \"as is\".\n",
        "\n",
        "**IMPORTANT**: Copy the workbook every time you start solving a new problem and start from scratch. Do not apply previous tasks edits to the Colab.\n",
        "\n",
        "**HINT**: If you want to avoid potential data truncation in GitHub's UI, try either of the following options:\n",
        "* Open the notebook in [Colab, using the GitHub link to the notebook](https://colab.research.google.com/github/DataTalksClub/stock-markets-analytics-zoomcamp/blob/main/04-trading-strategy-and-simulation/Module_04_HA_Workbook.ipynb).\n",
        "* Clone the repository to a local folder and open the notebook in Jupyter Notebook.\n",
        "\n",
        "---\n",
        "### Question 1 (2 points): Find the new global best CAGR with Random Forest tuning\n",
        "\n",
        "**The idea**: You may have noticed that the Random Forest predictions provide close to maximum CAGR results (\"1.1291\" for pred9_rf_best_rule_55, \"1.0923\" for pred10_rf_best_rule_60) with less effort (average trades per day).\n",
        "\n",
        "In this task, you are asked to define new predictors with custom threshold rules from 0.51 to 0.54 and from 0.56 to 0.59 to cover the full interval from 0.51 to 0.60. You should be able to observe one peak of financial performance and understand why we don't need to extend the interval with more predictions on other thresholds.\n",
        "\n",
        "\n",
        "1) **Before defining new predictors:** modify the code to generate the dataframe `df_scores` for Random Forest classifier `rf_best` and not a Decision Tree (`clf_best`). Look at for precision/recall rates for different threshold values. You'll see that the precision rate goes up with a higher threshold, but recall (and total number of deals) goes down. However, don't be misled by this, as the financial simulation may show a different view (even with higher precision and fewer trades, you may obtain worse results).\n",
        "\n",
        "2) Define new Random Forest predictions (with names `predxx_rf_best_rule_yy`) based on the missing thresholds to cover the full interval 0.51..0.60\n",
        "\n",
        "3) Review the last dataframe with the simulation results (`df_sim1_results`).\n",
        "Find the best simulation results. Do you see that one of the new predictors could deliver the new best CAGR?\n",
        "Write down the new best CAGR value as an answer.\n",
        "\n",
        "---\n",
        "\n",
        "\n",
        "\n",
        "\n"
      ]
    },
    {
      "cell_type": "markdown",
      "metadata": {
        "id": "6-Yt0x2V3smQ"
      },
      "source": [
        "---\n",
        "[File for Q1](Module_04_HA_Workbook_Q1.ipynb)\n",
        "\n",
        "The best simulation results is CAGR: 1.1376008931743444\n",
        "\n",
        "\n",
        "---"
      ]
    },
    {
      "cell_type": "markdown",
      "metadata": {
        "id": "Ed5p8M4W3i-8"
      },
      "source": [
        "### Question 2 (2 points): Less Features is More\n",
        "\n",
        "**The idea**: Reduce the features list to help models perform better. You may have noticed in the lecture that some of the models (Logistic Regression, Deep Neural Network) are not trained well, likely due to too many features in the dataset. We know there were too many dummies (including ones from the exercise and individual stock dummies). In this task, you are asked to remove most of the dummies from the feature set.\n",
        "\n",
        "1) **Define \"DUMMIES_SHORT\" set.** This set should include all dummies from the extended set (DUMMIES) but exclude all dummies starting from 'month_' (month_week_of_month dummies) and from 'Ticker' (individual ticker dummies). Make sure you leave dummies starting from 'Month_' (capital 'M'). To check yourself: `df_with_dummies[NUMERICAL+DUMMIES].info()` should give 299 features, while the new one `df_with_dummies[NUMERICAL+DUMMIES_SHORT].info()` should give only 206 features (32% less!).\n",
        "\n",
        "2) **Define the correct features_list.** Use DUMMIES_SHORT when you generate train, validation, and test dataframes and true values.\n",
        "\n",
        "3) **Run the workbook till the end.** Check the CAGR for pred5_clf_10 and write it down as an answer. It should be slightly higher than the original workbook CAGR for pred5_clf_10 (1.1308).\n",
        "\n",
        "(Advanced): You should see that simulations on many model-based predictions (names `.._rf_best_..`, `.._clf_best_..`) deliver worse results, likely because the feature set is very different now and you need to re-run the hyperparameters tuning again for Decision Tree and Random Forest classifiers. You may even see that Logistic Regression and Neural Network start to train. You can find the new best models rf_best and clf_best, and apply the decision rules strategies to improve the results even more.\n",
        "\n",
        "---\n"
      ]
    },
    {
      "cell_type": "markdown",
      "metadata": {
        "id": "16Z5cL8z3tp0"
      },
      "source": [
        "---\n",
        "[File for Q2](Module_04_HA_Workbook_Q2.ipynb)\n",
        "\n",
        "CAGR for pred5_clf_10 : 1.1321\n",
        "\n",
        "[File for Advanced](Module_04_HA_Workbook_Q2_Advanced.ipynb)\n",
        "\n",
        "---"
      ]
    },
    {
      "cell_type": "markdown",
      "metadata": {
        "id": "XRl1x9Qq3a8D"
      },
      "source": [
        "### Question 3 (2 points): Predicting Strong Future Growth\n",
        "\n",
        "\n",
        "**The idea**: There are many \"neutral\" growth days (with very small positive or negative growth), which may be extremely hard to predict. Let's aim to predict strong positive growth and potentially remove some headache for the models.\n",
        "\n",
        "1) **Define a new column for the strong growth.** Define a new field `is_strong_positive_growth_5d_future` in the original dataset `df_full`. It should equal to 1 only if the future growth is higher than 2% (`growth_future_5d` is higher than 1.02)\n",
        "\n",
        "2) **Generate correct true value datasets.** Change the value of a variable `to_predict` to the new feature  `is_strong_positive_growth_5d_future`. Ensure that all vectors with true values (y_train, y_valid, y_test, y_all, y_train_valid) are based on the new feature to predict.\n",
        "\n",
        "3) **Run the workbook till the end.** Find the best CAGR for the model-based predictions.\n",
        "You should see that the best performing simulation (for model-based predictions) should be for the prediction `pred6_clf_best`, although it should be lower than the one in the Workbook (1.1311).\n",
        "\n",
        "Write down the new CAGR as a result.\n",
        "\n",
        "(Advanced): You should see that the trick with predicting strong growth didn't work, as it didn't improve the CAGR. What are the potential reasons for this? Are we missing some steps?\n",
        "\n",
        "\n",
        "---\n",
        "\n",
        "\n"
      ]
    },
    {
      "cell_type": "markdown",
      "metadata": {
        "id": "CiDhcdSx3uPi"
      },
      "source": [
        "---\n",
        "[File for Q3](Module_04_HA_Workbook_Q3.ipynb)\n",
        "\n",
        "CAGR for pred6_clf_best : 1.1055\n",
        "\n",
        "\n",
        "---\n",
        "\n"
      ]
    },
    {
      "cell_type": "markdown",
      "metadata": {
        "id": "92Rgc2kO3VKI"
      },
      "source": [
        "### Question 4 (1 point): [EXPLORATORY] Describe Your Ideal Strategy\n",
        "\n",
        "We've seen many strategies to produce predictions and have made significant improvements, but we've only explored one trading strategy: 'Invest $100 in each positive prediction'. Think about your best strategy for trading on these predictions and describe it.\n",
        "\n",
        "Consider how you would combine the predictions, better utilize your capital, achieve efficiency (fewer trades), and possibly make other optimizations (e.g., stop loss, timing of entry/selling, portfolio optimization, short trades for market-neutral strategies). Please write down the specific details of what you would use and how you would implement your strategy.\n",
        "\n",
        "---\n"
      ]
    },
    {
      "cell_type": "markdown",
      "metadata": {
        "id": "si1PHyex3vAv"
      },
      "source": [
        "- Define predictions: Use model predictions (e.g. pred5_clf_10, pred6_clf_best) to generate trading signals.\n",
        "- Combine those signals from multiple models and require consensus for a trade.\n",
        "- Capital allocation: a percentage of the portfolio to each operation, adjusting confidence levels.\n",
        "- Entry/Exit Rules: Enter trades at the market open, use trailing stops, and set take profit levels.\n",
        "- Risk Management: Implement stop loss at 2% below entry price and take profit with 5% profit.\n",
        "- Rebalance the portfolio periodically to ensure diversification."
      ]
    },
    {
      "cell_type": "markdown",
      "metadata": {
        "id": "CF2Z_niZ3ObB"
      },
      "source": [
        "## Submitting the solutions\n",
        "\n",
        "Form for submitting: https://courses.datatalks.club/sma-zoomcamp-2024/homework/hw04\n",
        "\n",
        "---\n",
        "## Leaderboard\n",
        "\n",
        "Leaderboard link: https://courses.datatalks.club/sma-zoomcamp-2024/leaderboard\n",
        "\n",
        "---"
      ]
    }
  ],
  "metadata": {
    "colab": {
      "authorship_tag": "ABX9TyOkZamK8LQynwnzl2NM17jG",
      "include_colab_link": true,
      "provenance": []
    },
    "kernelspec": {
      "display_name": "Python 3",
      "name": "python3"
    },
    "language_info": {
      "name": "python"
    }
  },
  "nbformat": 4,
  "nbformat_minor": 0
}
